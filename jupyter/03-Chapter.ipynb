{
 "cells": [
  {
   "cell_type": "code",
   "execution_count": 5,
   "id": "5ba83b7a-ad18-4cef-8939-aebbc11db5e0",
   "metadata": {},
   "outputs": [],
   "source": [
    "from __future__ import absolute_import, division, print_function, unicode_literals\n",
    "import tensorflow as tf"
   ]
  },
  {
   "cell_type": "code",
   "execution_count": 6,
   "id": "e45eda2b-b5ae-4727-bade-a843fdcf2204",
   "metadata": {},
   "outputs": [],
   "source": [
    "x = tf.ones((2, 2))\n",
    "\n",
    "with tf.GradientTape() as t:\n",
    "    t.watch(x)\n",
    "    y = tf.reduce_sum(x)\n",
    "    z = tf.multiply(y, y)\n",
    "\n",
    "# use the tape to compute the derivative of z with respect to the\n",
    "#     intermediate value y.\n",
    "dz_dy = t.gradient(z, y)\n",
    "\n",
    "# note that the resulting derivative, 2*y = sum(x)*2 = 8\n",
    "assert dz_dy.numpy() == 8.0"
   ]
  },
  {
   "cell_type": "code",
   "execution_count": 7,
   "id": "2d6be7e0-a300-459b-ade6-239d0930e81a",
   "metadata": {},
   "outputs": [],
   "source": [
    "## By default the memory used by GradientTape() are released one gradient() is called.\n",
    "##     You can use persisteent argument to store the results\n",
    "x = tf.constant(3.0)\n",
    "\n",
    "with tf.GradientTape(persistent=True) as t:\n",
    "    t.watch(x)\n",
    "    y = x*x\n",
    "    z = y*y\n",
    "\n",
    "dz_dx = t.gradient(z, x) # 108.0\n",
    "dy_dx = t.gradient(y, x) # 6.0"
   ]
  },
  {
   "cell_type": "code",
   "execution_count": null,
   "id": "a59a2615-7f34-46b6-b117-7775772519fd",
   "metadata": {},
   "outputs": [],
   "source": []
  }
 ],
 "metadata": {
  "kernelspec": {
   "display_name": "Python 3 (ipykernel)",
   "language": "python",
   "name": "python3"
  },
  "language_info": {
   "codemirror_mode": {
    "name": "ipython",
    "version": 3
   },
   "file_extension": ".py",
   "mimetype": "text/x-python",
   "name": "python",
   "nbconvert_exporter": "python",
   "pygments_lexer": "ipython3",
   "version": "3.11.6"
  }
 },
 "nbformat": 4,
 "nbformat_minor": 5
}
