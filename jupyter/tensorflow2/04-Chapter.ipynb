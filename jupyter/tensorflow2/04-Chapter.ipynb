{
 "cells": [
  {
   "cell_type": "code",
   "execution_count": 4,
   "id": "643295a9-3a66-4260-9903-107bd1eebf09",
   "metadata": {},
   "outputs": [],
   "source": [
    "## Developing the DBN model\n",
    "## The MNIST database, contains hand-drawn digiits from 0-9.\n",
    "#pip install tensorflow-dataset"
   ]
  },
  {
   "cell_type": "code",
   "execution_count": 11,
   "id": "b4dedce3-b844-4329-b738-9c3b1f85923a",
   "metadata": {},
   "outputs": [],
   "source": [
    "## Import our dependencies\n",
    "from __future__ import absolute_import\n",
    "from __future__ import division\n",
    "from __future__ import print_function\n",
    "\n",
    "import matplotlib.pyplot as plt\n",
    "import numpy as np\n",
    "from functools import partial\n",
    "\n",
    "import tensorflow.compat.v2 as tf\n",
    "import tensorflow_datasets as tfds"
   ]
  },
  {
   "cell_type": "code",
   "execution_count": 12,
   "id": "ed929f16-afb4-49cb-be4e-cbcfc427a7c0",
   "metadata": {},
   "outputs": [],
   "source": [
    "## Download the MNIST data locally from Google Cloud Storage (GCS)\n",
    "mnist_builder = tfds.builder(\"mnist\")\n",
    "mnist_builder.download_and_prepare()"
   ]
  },
  {
   "cell_type": "code",
   "execution_count": 13,
   "id": "b0736117-bcac-4d14-885e-a9872cc0c016",
   "metadata": {},
   "outputs": [
    {
     "name": "stdout",
     "output_type": "stream",
     "text": [
      "tfds.core.DatasetInfo(\n",
      "    name='mnist',\n",
      "    full_name='mnist/3.0.1',\n",
      "    description=\"\"\"\n",
      "    The MNIST database of handwritten digits.\n",
      "    \"\"\",\n",
      "    homepage='http://yann.lecun.com/exdb/mnist/',\n",
      "    data_dir='/home/jovyan/tensorflow_datasets/mnist/3.0.1',\n",
      "    file_format=tfrecord,\n",
      "    download_size=11.06 MiB,\n",
      "    dataset_size=21.00 MiB,\n",
      "    features=FeaturesDict({\n",
      "        'image': Image(shape=(28, 28, 1), dtype=uint8),\n",
      "        'label': ClassLabel(shape=(), dtype=int64, num_classes=10),\n",
      "    }),\n",
      "    supervised_keys=('image', 'label'),\n",
      "    disable_shuffling=False,\n",
      "    splits={\n",
      "        'test': <SplitInfo num_examples=10000, num_shards=1>,\n",
      "        'train': <SplitInfo num_examples=60000, num_shards=1>,\n",
      "    },\n",
      "    citation=\"\"\"@article{lecun2010mnist,\n",
      "      title={MNIST handwritten digit database},\n",
      "      author={LeCun, Yann and Cortes, Corinna and Burges, CJ},\n",
      "      journal={ATT Labs [Online]. Available: http://yann.lecun.com/exdb/mnist},\n",
      "      volume={2},\n",
      "      year={2010}\n",
      "    }\"\"\",\n",
      ")\n"
     ]
    }
   ],
   "source": [
    "## Data comes pre-seperated into training and test sets\n",
    "info = mnist_builder.info\n",
    "print(info)"
   ]
  },
  {
   "cell_type": "code",
   "execution_count": 14,
   "id": "0ae92aba-7e2f-4b05-9ca2-b702cd03c45d",
   "metadata": {},
   "outputs": [
    {
     "name": "stdout",
     "output_type": "stream",
     "text": [
      "Label: 4\n"
     ]
    },
    {
     "name": "stderr",
     "output_type": "stream",
     "text": [
      "2024-05-15 04:01:00.701461: W tensorflow/core/kernels/data/cache_dataset_ops.cc:854] The calling iterator did not fully read the dataset being cached. In order to avoid unexpected truncation of the dataset, the partially cached contents of the dataset  will be discarded. This can happen if you have an input pipeline similar to `dataset.cache().take(k).repeat()`. You should use `dataset.take(k).cache().repeat()` instead.\n"
     ]
    },
    {
     "data": {
      "image/png": "[encoded data removed]",
      "text/plain": [
       "<Figure size 640x480 with 1 Axes>"
      ]
     },
     "metadata": {},
     "output_type": "display_data"
    }
   ],
   "source": [
    "def flatten_image(x, label=False):\n",
    "    if label:  \n",
    "        return (tf.divide(tf.dtypes.cast(tf.reshape(x[\"image\"], (1,28*28)), tf.float32), 256.0) , x[\"label\"])\n",
    "    else:\n",
    "        return (tf.divide(tf.dtypes.cast(tf.reshape(x[\"image\"], (1,28*28)), tf.float32), 256.0))\n",
    "\n",
    "flatten_image = partial(flatten_image, label=True)\n",
    "    \n",
    "for image, label in mnist_train.map(flatten_image).take(1):\n",
    "    plt.imshow(image.numpy().reshape(28,28).astype(np.float32), \n",
    "               cmap=plt.get_cmap(\"gray\")\n",
    "              )\n",
    "    print(\"Label: %d\" % label.numpy())"
   ]
  },
  {
   "cell_type": "code",
   "execution_count": 15,
   "id": "1e8236b3-18bd-436f-adb9-f9d7f96bc4e0",
   "metadata": {},
   "outputs": [
    {
     "ename": "TypeError",
     "evalue": "'DatasetInfo' object is not iterable",
     "output_type": "error",
     "traceback": [
      "\u001b[0;31m---------------------------------------------------------------------------\u001b[0m",
      "\u001b[0;31mTypeError\u001b[0m                                 Traceback (most recent call last)",
      "Cell \u001b[0;32mIn[15], line 2\u001b[0m\n\u001b[1;32m      1\u001b[0m mnist_train\u001b[38;5;241m.\u001b[39mmap(flatten_image)\u001b[38;5;241m.\u001b[39mtake(\u001b[38;5;241m1\u001b[39m)\n\u001b[0;32m----> 2\u001b[0m fig \u001b[38;5;241m=\u001b[39m \u001b[43mtfds\u001b[49m\u001b[38;5;241;43m.\u001b[39;49m\u001b[43mshow_examples\u001b[49m\u001b[43m(\u001b[49m\u001b[43minfo\u001b[49m\u001b[43m,\u001b[49m\u001b[43m \u001b[49m\u001b[43mmnist_train\u001b[49m\u001b[43m)\u001b[49m\n",
      "File \u001b[0;32m/opt/conda/lib/python3.11/site-packages/tensorflow_datasets/core/visualization/show_examples.py:128\u001b[0m, in \u001b[0;36mshow_examples\u001b[0;34m(ds, ds_info, is_batched, **options_kwargs)\u001b[0m\n\u001b[1;32m    126\u001b[0m rows \u001b[38;5;241m=\u001b[39m options_kwargs\u001b[38;5;241m.\u001b[39mpop(\u001b[38;5;124m'\u001b[39m\u001b[38;5;124mrows\u001b[39m\u001b[38;5;124m'\u001b[39m, _DEFAULT_NUM_ROWS)\n\u001b[1;32m    127\u001b[0m cols \u001b[38;5;241m=\u001b[39m options_kwargs\u001b[38;5;241m.\u001b[39mpop(\u001b[38;5;124m'\u001b[39m\u001b[38;5;124mcols\u001b[39m\u001b[38;5;124m'\u001b[39m, _DEFAULT_NUM_COLS)\n\u001b[0;32m--> 128\u001b[0m ds \u001b[38;5;241m=\u001b[39m \u001b[43m_to_tf_dataset\u001b[49m\u001b[43m(\u001b[49m\u001b[43mds\u001b[49m\u001b[43m,\u001b[49m\u001b[43m \u001b[49m\u001b[43mrows\u001b[49m\u001b[43m \u001b[49m\u001b[38;5;241;43m*\u001b[39;49m\u001b[43m \u001b[49m\u001b[43mcols\u001b[49m\u001b[43m,\u001b[49m\u001b[43m \u001b[49m\u001b[43mis_batched\u001b[49m\u001b[38;5;241;43m=\u001b[39;49m\u001b[43mis_batched\u001b[49m\u001b[43m)\u001b[49m\n\u001b[1;32m    129\u001b[0m \u001b[38;5;28;01mif\u001b[39;00m \u001b[38;5;129;01mnot\u001b[39;00m \u001b[38;5;28misinstance\u001b[39m(ds_info, dataset_info\u001b[38;5;241m.\u001b[39mDatasetInfo):  \u001b[38;5;66;03m# Arguments inverted\u001b[39;00m\n\u001b[1;32m    130\u001b[0m   \u001b[38;5;66;03m# `absl.logging` does not appear on Colab by default, so uses print instead.\u001b[39;00m\n\u001b[1;32m    131\u001b[0m   \u001b[38;5;28mprint\u001b[39m(\n\u001b[1;32m    132\u001b[0m       \u001b[38;5;124m'\u001b[39m\u001b[38;5;124mWARNING: For consistency with `tfds.load`, the `tfds.show_examples` \u001b[39m\u001b[38;5;124m'\u001b[39m\n\u001b[1;32m    133\u001b[0m       \u001b[38;5;124m'\u001b[39m\u001b[38;5;124msignature has been modified from (info, ds) to (ds, info).\u001b[39m\u001b[38;5;130;01m\\n\u001b[39;00m\u001b[38;5;124m'\u001b[39m\n\u001b[1;32m    134\u001b[0m       \u001b[38;5;124m'\u001b[39m\u001b[38;5;124mThe old signature is deprecated and will be removed. \u001b[39m\u001b[38;5;124m'\u001b[39m\n\u001b[1;32m    135\u001b[0m       \u001b[38;5;124m'\u001b[39m\u001b[38;5;124mPlease change your call to `tfds.show_examples(ds, info)`\u001b[39m\u001b[38;5;124m'\u001b[39m\n\u001b[1;32m    136\u001b[0m   )\n",
      "File \u001b[0;32m/opt/conda/lib/python3.11/site-packages/tensorflow_datasets/core/visualization/show_examples.py:79\u001b[0m, in \u001b[0;36m_to_tf_dataset\u001b[0;34m(ds, min_length, is_batched)\u001b[0m\n\u001b[1;32m     77\u001b[0m \u001b[38;5;28;01melse\u001b[39;00m:\n\u001b[1;32m     78\u001b[0m   from_tensor \u001b[38;5;241m=\u001b[39m tf\u001b[38;5;241m.\u001b[39mdata\u001b[38;5;241m.\u001b[39mDataset\u001b[38;5;241m.\u001b[39mfrom_tensors\n\u001b[0;32m---> 79\u001b[0m \u001b[38;5;28;01mfor\u001b[39;00m record \u001b[38;5;129;01min\u001b[39;00m ds:\n\u001b[1;32m     80\u001b[0m   \u001b[38;5;28;01mif\u001b[39;00m tf_dataset \u001b[38;5;129;01mis\u001b[39;00m \u001b[38;5;28;01mNone\u001b[39;00m:\n\u001b[1;32m     81\u001b[0m     tf_dataset \u001b[38;5;241m=\u001b[39m from_tensor(record)\n",
      "\u001b[0;31mTypeError\u001b[0m: 'DatasetInfo' object is not iterable"
     ]
    }
   ],
   "source": [
    "mnist_train.map(flatten_image).take(1)\n",
    "fig = tfds.show_examples(info, mnist_train)"
   ]
  },
  {
   "cell_type": "code",
   "execution_count": null,
   "id": "78820770-36fb-41bc-868c-61a7f27f539d",
   "metadata": {},
   "outputs": [],
   "source": []
  }
 ],
 "metadata": {
  "kernelspec": {
   "display_name": "Python 3 (ipykernel)",
   "language": "python",
   "name": "python3"
  },
  "language_info": {
   "codemirror_mode": {
    "name": "ipython",
    "version": 3
   },
   "file_extension": ".py",
   "mimetype": "text/x-python",
   "name": "python",
   "nbconvert_exporter": "python",
   "pygments_lexer": "ipython3",
   "version": "3.11.6"
  }
 },
 "nbformat": 4,
 "nbformat_minor": 5
}
