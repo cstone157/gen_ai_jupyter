{
 "cells": [
  {
   "cell_type": "markdown",
   "id": "761781d3-d8e8-4cca-964d-a83d7fa04a1b",
   "metadata": {},
   "source": [
    "## Notes\n",
    "\n",
    "- Examples / sources: \n",
    "    -    01.) <u>Generative AI with Python and TensorFlow 2</u>"
   ]
  },
  {
   "cell_type": "code",
   "execution_count": null,
   "id": "dad05ebc-2ea9-4f76-98b7-7509e6a69fd1",
   "metadata": {},
   "outputs": [],
   "source": []
  }
 ],
 "metadata": {
  "kernelspec": {
   "display_name": "Python 3 (ipykernel)",
   "language": "python",
   "name": "python3"
  },
  "language_info": {
   "codemirror_mode": {
    "name": "ipython",
    "version": 3
   },
   "file_extension": ".py",
   "mimetype": "text/x-python",
   "name": "python",
   "nbconvert_exporter": "python",
   "pygments_lexer": "ipython3",
   "version": "3.11.6"
  }
 },
 "nbformat": 4,
 "nbformat_minor": 5
}
